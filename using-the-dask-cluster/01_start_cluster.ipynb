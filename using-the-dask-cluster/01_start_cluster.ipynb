{
 "cells": [
  {
   "cell_type": "markdown",
   "id": "4be940f0-2dff-417c-b6d3-2fb3fb8c3d9d",
   "metadata": {},
   "source": [
    "# Starting the XC Cluster\n",
    "\n",
    "The forst thing you need is a [Dask gateway](https://gateway.dask.org/). The gateway handles clusters, clients and dashboard and everything else a dask cluster needs.\n",
    "Please also refer to the [gateway's usage docs](https://gateway.dask.org/usage.html)."
   ]
  },
  {
   "cell_type": "code",
   "execution_count": 23,
   "id": "506c9269-68fd-4da5-b8c9-fbf992d1b473",
   "metadata": {},
   "outputs": [],
   "source": [
    "from dask_gateway import Gateway\n",
    "\n",
    "# Use values stored in your local configuration (recommended)\n",
    "gateway = Gateway()"
   ]
  },
  {
   "cell_type": "markdown",
   "id": "f1210686-8e18-4d4c-8f02-bd802374806d",
   "metadata": {},
   "source": [
    "## Configuring the workers\n",
    "\n",
    "A cluster consists of workers that take your work load. You can specify the number of cores and the memory that will be allocated to the workers. PLEASE be careful. Configuring too large workers (e.g. 16GB plus memory) might either get very expensive or overload the cluster.\n",
    "\n",
    "TODO: Describe capacites"
   ]
  },
  {
   "cell_type": "code",
   "execution_count": 24,
   "id": "d79b477e-dbbd-48e2-b6fd-fcfc9c6c6a69",
   "metadata": {},
   "outputs": [
    {
     "data": {
      "application/vnd.jupyter.widget-view+json": {
       "model_id": "ee1c87b16259489694757855264dffc8",
       "version_major": 2,
       "version_minor": 0
      },
      "text/plain": [
       "VBox(children=(HTML(value='<h2>Cluster Options</h2>'), GridBox(children=(HTML(value=\"<p style='font-weight: bo…"
      ]
     },
     "metadata": {},
     "output_type": "display_data"
    }
   ],
   "source": [
    "options = gateway.cluster_options()\n",
    "# If you want to set the options programmatically use:\n",
    "# options.worker_cores = 1\n",
    "# options.worker_memory = 1\n",
    "options"
   ]
  },
  {
   "cell_type": "markdown",
   "id": "85abfc90-b908-4a1d-b4d6-a50d4b42e7e6",
   "metadata": {},
   "source": [
    "## Configure the Number of Workers in a Cluster\n",
    "\n",
    "The final step of configuring the cluster is setting the number of workers. `new_cluster` will setup a dask scheduler. Pushing teh `scale` button will \n",
    "immediately start n workers."
   ]
  },
  {
   "cell_type": "code",
   "execution_count": 25,
   "id": "7a2b3eec-fe7b-4482-a231-96bb193d8b08",
   "metadata": {},
   "outputs": [
    {
     "data": {
      "application/vnd.jupyter.widget-view+json": {
       "model_id": "f7537bdf56094909b4319c907a52698d",
       "version_major": 2,
       "version_minor": 0
      },
      "text/plain": [
       "VBox(children=(HTML(value='<h2>GatewayCluster</h2>'), HBox(children=(HTML(value='\\n<div>\\n<style scoped>\\n    …"
      ]
     },
     "metadata": {},
     "output_type": "display_data"
    }
   ],
   "source": [
    "cluster = gateway.new_cluster(options)\n",
    "# If you want to scale the cluster programmatically use:\n",
    "# cluster.scale(2)\n",
    "cluster"
   ]
  },
  {
   "cell_type": "markdown",
   "id": "eba04f39-ee9d-4c1a-a175-04ad667e5865",
   "metadata": {},
   "source": [
    "## Getting the Client and Dashboards\n",
    "\n",
    "In order to get visual information about your cluster, the cluster can return a client whose JL representations will provide you with a link to teh dashboard. \n",
    "You do not have to continue your script here. The notebook `example.ipynb` shows you how to retrieve a client for the cluster you have created in another notebook."
   ]
  },
  {
   "cell_type": "code",
   "execution_count": 18,
   "id": "db028249-edbf-4c51-a9b3-ba392213b482",
   "metadata": {},
   "outputs": [],
   "source": [
    "client = cluster.get_client()"
   ]
  },
  {
   "cell_type": "code",
   "execution_count": 19,
   "id": "52359e53-5d77-4baa-a5dd-0e11d6a0f0b4",
   "metadata": {},
   "outputs": [
    {
     "data": {
      "text/html": [
       "<div>\n",
       "    <div style=\"width: 24px; height: 24px; background-color: #e1e1e1; border: 3px solid #9D9D9D; border-radius: 5px; position: absolute;\"> </div>\n",
       "    <div style=\"margin-left: 48px;\">\n",
       "        <h3 style=\"margin-bottom: 0px;\">Client</h3>\n",
       "        <p style=\"color: #9D9D9D; margin-bottom: 0px;\">Client-464b4f1a-8290-11ec-804d-c37d0dc66f67</p>\n",
       "        <table style=\"width: 100%; text-align: left;\">\n",
       "\n",
       "        <tr>\n",
       "        \n",
       "            <td style=\"text-align: left;\"><strong>Connection method:</strong> Cluster object</td>\n",
       "            <td style=\"text-align: left;\"><strong>Cluster type:</strong> dask_gateway.GatewayCluster</td>\n",
       "        \n",
       "        </tr>\n",
       "\n",
       "        \n",
       "            <tr>\n",
       "                <td style=\"text-align: left;\">\n",
       "                    <strong>Dashboard: </strong> <a href=\"/services/dask-gateway/clusters/dask.acfd77d51c0243918b89c84aba5e900a/status\" target=\"_blank\">/services/dask-gateway/clusters/dask.acfd77d51c0243918b89c84aba5e900a/status</a>\n",
       "                </td>\n",
       "                <td style=\"text-align: left;\"></td>\n",
       "            </tr>\n",
       "        \n",
       "\n",
       "        </table>\n",
       "\n",
       "        \n",
       "            <details>\n",
       "            <summary style=\"margin-bottom: 20px;\"><h3 style=\"display: inline;\">Cluster Info</h3></summary>\n",
       "            <div style='background-color: #f2f2f2; display: inline-block; padding: 10px; border: 1px solid #999999;'>\n",
       "  <h3>GatewayCluster</h3>\n",
       "  <ul>\n",
       "    <li><b>Name: </b>dask.acfd77d51c0243918b89c84aba5e900a\n",
       "    <li><b>Dashboard: </b><a href='/services/dask-gateway/clusters/dask.acfd77d51c0243918b89c84aba5e900a/status' target='_blank'>/services/dask-gateway/clusters/dask.acfd77d51c0243918b89c84aba5e900a/status</a>\n",
       "  </ul>\n",
       "</div>\n",
       "\n",
       "            </details>\n",
       "        \n",
       "\n",
       "    </div>\n",
       "</div>"
      ],
      "text/plain": [
       "<Client: 'tls://192.168.18.14:8786' processes=0 threads=0, memory=0 B>"
      ]
     },
     "execution_count": 19,
     "metadata": {},
     "output_type": "execute_result"
    }
   ],
   "source": [
    "client"
   ]
  },
  {
   "cell_type": "markdown",
   "id": "c5f8dde3-16cd-4e4f-a440-b6b688b090b5",
   "metadata": {},
   "source": [
    "## Closing the Cluster\n",
    "\n",
    "Once you are happy with your results it is good practice to close the cluster in order to free up resources. The DaskHub will, though, shutdown unused clusters after 24 hours."
   ]
  },
  {
   "cell_type": "code",
   "execution_count": 13,
   "id": "4e7b7d9d-d0a4-4419-8ac3-09d8e4ec2dbd",
   "metadata": {},
   "outputs": [],
   "source": [
    "cluster.close()"
   ]
  },
  {
   "cell_type": "code",
   "execution_count": null,
   "id": "cf92bc98-4f82-4a16-b62f-da5444683634",
   "metadata": {},
   "outputs": [],
   "source": []
  }
 ],
 "metadata": {
  "kernelspec": {
   "display_name": "Python 3 (ipykernel)",
   "language": "python",
   "name": "python3"
  },
  "language_info": {
   "codemirror_mode": {
    "name": "ipython",
    "version": 3
   },
   "file_extension": ".py",
   "mimetype": "text/x-python",
   "name": "python",
   "nbconvert_exporter": "python",
   "pygments_lexer": "ipython3",
   "version": "3.9.5"
  }
 },
 "nbformat": 4,
 "nbformat_minor": 5
}
